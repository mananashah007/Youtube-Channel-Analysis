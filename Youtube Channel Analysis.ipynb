{
 "cells": [
  {
   "cell_type": "code",
   "execution_count": 1,
   "metadata": {},
   "outputs": [
    {
     "name": "stdout",
     "output_type": "stream",
     "text": [
      "Requirement already satisfied: google-api-python-client in c:\\users\\mananshah\\anaconda3\\lib\\site-packages (1.11.0)\n",
      "Requirement already satisfied: httplib2<1dev,>=0.9.2 in c:\\users\\mananshah\\anaconda3\\lib\\site-packages (from google-api-python-client) (0.18.1)\n",
      "Requirement already satisfied: google-auth-httplib2>=0.0.3 in c:\\users\\mananshah\\anaconda3\\lib\\site-packages (from google-api-python-client) (0.0.4)\n",
      "Requirement already satisfied: google-auth>=1.16.0 in c:\\users\\mananshah\\anaconda3\\lib\\site-packages (from google-api-python-client) (1.20.0)\n",
      "Requirement already satisfied: six<2dev,>=1.6.1 in c:\\users\\mananshah\\anaconda3\\lib\\site-packages (from google-api-python-client) (1.15.0)\n",
      "Requirement already satisfied: uritemplate<4dev,>=3.0.0 in c:\\users\\mananshah\\anaconda3\\lib\\site-packages (from google-api-python-client) (3.0.1)\n",
      "Requirement already satisfied: google-api-core<2dev,>=1.18.0 in c:\\users\\mananshah\\anaconda3\\lib\\site-packages (from google-api-python-client) (1.22.2)\n",
      "Note: you may need to restart the kernel to use updated packages.Requirement already satisfied: pyasn1-modules>=0.2.1 in c:\\users\\mananshah\\anaconda3\\lib\\site-packages (from google-auth>=1.16.0->google-api-python-client) (0.2.8)\n",
      "Requirement already satisfied: setuptools>=40.3.0 in c:\\users\\mananshah\\anaconda3\\lib\\site-packages (from google-auth>=1.16.0->google-api-python-client) (49.2.0.post20200714)\n",
      "Requirement already satisfied: cachetools<5.0,>=2.0.0 in c:\\users\\mananshah\\anaconda3\\lib\\site-packages (from google-auth>=1.16.0->google-api-python-client) (4.1.1)\n",
      "Requirement already satisfied: rsa<5,>=3.1.4; python_version >= \"3.5\" in c:\\users\\mananshah\\anaconda3\\lib\\site-packages (from google-auth>=1.16.0->google-api-python-client) (4.6)\n",
      "Requirement already satisfied: googleapis-common-protos<2.0dev,>=1.6.0 in c:\\users\\mananshah\\anaconda3\\lib\\site-packages (from google-api-core<2dev,>=1.18.0->google-api-python-client) (1.52.0)\n",
      "Requirement already satisfied: requests<3.0.0dev,>=2.18.0 in c:\\users\\mananshah\\anaconda3\\lib\\site-packages (from google-api-core<2dev,>=1.18.0->google-api-python-client) (2.24.0)\n",
      "Requirement already satisfied: pytz in c:\\users\\mananshah\\anaconda3\\lib\\site-packages (from google-api-core<2dev,>=1.18.0->google-api-python-client) (2020.1)\n",
      "Requirement already satisfied: protobuf>=3.12.0 in c:\\users\\mananshah\\anaconda3\\lib\\site-packages (from google-api-core<2dev,>=1.18.0->google-api-python-client) (3.12.4)\n",
      "Requirement already satisfied: pyasn1<0.5.0,>=0.4.6 in c:\\users\\mananshah\\anaconda3\\lib\\site-packages (from pyasn1-modules>=0.2.1->google-auth>=1.16.0->google-api-python-client) (0.4.8)\n",
      "\n",
      "Requirement already satisfied: idna<3,>=2.5 in c:\\users\\mananshah\\anaconda3\\lib\\site-packages (from requests<3.0.0dev,>=2.18.0->google-api-core<2dev,>=1.18.0->google-api-python-client) (2.10)\n",
      "Requirement already satisfied: chardet<4,>=3.0.2 in c:\\users\\mananshah\\anaconda3\\lib\\site-packages (from requests<3.0.0dev,>=2.18.0->google-api-core<2dev,>=1.18.0->google-api-python-client) (3.0.4)\n",
      "Requirement already satisfied: certifi>=2017.4.17 in c:\\users\\mananshah\\anaconda3\\lib\\site-packages (from requests<3.0.0dev,>=2.18.0->google-api-core<2dev,>=1.18.0->google-api-python-client) (2020.6.20)\n",
      "Requirement already satisfied: urllib3!=1.25.0,!=1.25.1,<1.26,>=1.21.1 in c:\\users\\mananshah\\anaconda3\\lib\\site-packages (from requests<3.0.0dev,>=2.18.0->google-api-core<2dev,>=1.18.0->google-api-python-client) (1.25.9)\n"
     ]
    }
   ],
   "source": [
    "pip install google-api-python-client"
   ]
  },
  {
   "cell_type": "code",
   "execution_count": 80,
   "metadata": {},
   "outputs": [],
   "source": [
    "from googleapiclient.discovery import build"
   ]
  },
  {
   "cell_type": "code",
   "execution_count": 81,
   "metadata": {},
   "outputs": [],
   "source": [
    "f=open(\"Desktop/youtube_api_key.txt\",'r')\n",
    "a=f.read()"
   ]
  },
  {
   "cell_type": "code",
   "execution_count": 82,
   "metadata": {},
   "outputs": [],
   "source": [
    "x=a.split('-')\n",
    "youtubeapikey=x[1].strip()"
   ]
  },
  {
   "cell_type": "code",
   "execution_count": 83,
   "metadata": {},
   "outputs": [],
   "source": [
    "youtube=build('youtube','v3',developerKey=youtubeapikey)\n",
    "#channelID='UCr2dD3s19bdcw4qjuUTQKiQ'"
   ]
  },
  {
   "cell_type": "code",
   "execution_count": 84,
   "metadata": {},
   "outputs": [
    {
     "data": {
      "text/plain": [
       "{'kind': 'youtube#channelListResponse',\n",
       " 'etag': 'BO3gSBqlPtP-nHqkkmBIms4ILZA',\n",
       " 'pageInfo': {'totalResults': 1, 'resultsPerPage': 5},\n",
       " 'items': [{'kind': 'youtube#channel',\n",
       "   'etag': 'yxq_lBM8qL5I3dbaBDYCt2TSlHA',\n",
       "   'id': 'UCCezIgC97PvUuR4_gbFUs5g',\n",
       "   'statistics': {'viewCount': '53265069',\n",
       "    'subscriberCount': '730000',\n",
       "    'hiddenSubscriberCount': False,\n",
       "    'videoCount': '230'}}]}"
      ]
     },
     "execution_count": 84,
     "metadata": {},
     "output_type": "execute_result"
    }
   ],
   "source": [
    "statdata=youtube.channels().list(part='statistics',forUsername='schafer5').execute()\n",
    "statdata"
   ]
  },
  {
   "cell_type": "code",
   "execution_count": 85,
   "metadata": {},
   "outputs": [
    {
     "data": {
      "text/plain": [
       "{'viewCount': '53265069',\n",
       " 'subscriberCount': '730000',\n",
       " 'hiddenSubscriberCount': False,\n",
       " 'videoCount': '230'}"
      ]
     },
     "execution_count": 85,
     "metadata": {},
     "output_type": "execute_result"
    }
   ],
   "source": [
    "stats=statdata['items'][0]['statistics']\n",
    "stats"
   ]
  },
  {
   "cell_type": "code",
   "execution_count": 86,
   "metadata": {},
   "outputs": [],
   "source": [
    "snippetdata=youtube.channels().list(part='snippet',forUsername='schafer5').execute()\n",
    "#snippetdata"
   ]
  },
  {
   "cell_type": "code",
   "execution_count": 87,
   "metadata": {},
   "outputs": [
    {
     "name": "stdout",
     "output_type": "stream",
     "text": [
      "Channel name: Corey Schafer\n",
      "Channel Description: Welcome to my Channel. This channel is focused on creating tutorials and walkthroughs for software developers, programmers, and engineers. We cover topics for all different skill levels, so whether you are a beginner or have many years of experience, this channel will have something for you.\n",
      "\n",
      "We've already released a wide variety of videos on topics that include: Python, Git, Development Environments, Terminal Commands, SQL, Programming Terms, JavaScript, Computer Science Fundamentals, and plenty of other tips and tricks which will help you in your career.\n",
      "\n",
      "\n",
      "If you enjoy these videos and would like to support my channel, I would greatly appreciate any assistance through my Patreon account:\n",
      "https://www.patreon.com/coreyms\n",
      "\n",
      "\n",
      "You can find me on:\n",
      "My website - http://coreyms.com/\n",
      "Facebook - https://www.facebook.com/CoreyMSchafer\n",
      "Twitter - https://twitter.com/CoreyMSchafer\n",
      "Google Plus - https://plus.google.com/+CoreySchafer44/posts\n",
      "Tumblr - https://www.tumblr.com/blog/mycms\n"
     ]
    }
   ],
   "source": [
    "#channel intro\n",
    "channelname=snippetdata['items'][0]['snippet']['title']\n",
    "channeldesc=snippetdata['items'][0]['snippet']['description']\n",
    "print(\"Channel name: {}\\nChannel Description: {}\".format(channelname,channeldesc))"
   ]
  },
  {
   "cell_type": "code",
   "execution_count": 88,
   "metadata": {},
   "outputs": [
    {
     "name": "stdout",
     "output_type": "stream",
     "text": [
      "Total no. of Views on the channel are : 53,265,069\n",
      "Total no. of subscribers of the channel are : 730,000\n",
      "Total no. of videos uploaded on the channel are : 230\n"
     ]
    }
   ],
   "source": [
    "#stats of the channel\n",
    "print('Total no. of Views on the channel are : {:,}'.format(int(stats['viewCount'])))\n",
    "print('Total no. of subscribers of the channel are : {:,}'.format(int(stats['subscriberCount'])))\n",
    "print('Total no. of videos uploaded on the channel are : {:,}'.format(int(stats['videoCount'])))"
   ]
  },
  {
   "cell_type": "code",
   "execution_count": 89,
   "metadata": {},
   "outputs": [],
   "source": [
    "#getting the 5 playlists from the channel\n",
    "pl_list=youtube.playlists().list(part='contentDetails,snippet',channelId='UCCezIgC97PvUuR4_gbFUs5g').execute()"
   ]
  },
  {
   "cell_type": "code",
   "execution_count": 90,
   "metadata": {},
   "outputs": [
    {
     "data": {
      "text/plain": [
       "{'kind': 'youtube#playlistListResponse',\n",
       " 'etag': 'F07UywJv15iVAT268aStMUrKrDo',\n",
       " 'nextPageToken': 'CAUQAA',\n",
       " 'pageInfo': {'totalResults': 21, 'resultsPerPage': 5},\n",
       " 'items': [{'kind': 'youtube#playlist',\n",
       "   'etag': 'qIdd8wCVgQOMhzTyggaBTFhGnvk',\n",
       "   'id': 'PL-osiE80TeTsWmV9i9c58mdDCSskIFdDS',\n",
       "   'snippet': {'publishedAt': '2020-01-08T16:44:09Z',\n",
       "    'channelId': 'UCCezIgC97PvUuR4_gbFUs5g',\n",
       "    'title': 'Pandas Tutorials',\n",
       "    'description': '',\n",
       "    'thumbnails': {'default': {'url': 'https://i.ytimg.com/vi/ZyhVh-qRZPA/default.jpg',\n",
       "      'width': 120,\n",
       "      'height': 90},\n",
       "     'medium': {'url': 'https://i.ytimg.com/vi/ZyhVh-qRZPA/mqdefault.jpg',\n",
       "      'width': 320,\n",
       "      'height': 180},\n",
       "     'high': {'url': 'https://i.ytimg.com/vi/ZyhVh-qRZPA/hqdefault.jpg',\n",
       "      'width': 480,\n",
       "      'height': 360},\n",
       "     'standard': {'url': 'https://i.ytimg.com/vi/ZyhVh-qRZPA/sddefault.jpg',\n",
       "      'width': 640,\n",
       "      'height': 480},\n",
       "     'maxres': {'url': 'https://i.ytimg.com/vi/ZyhVh-qRZPA/maxresdefault.jpg',\n",
       "      'width': 1280,\n",
       "      'height': 720}},\n",
       "    'channelTitle': 'Corey Schafer',\n",
       "    'localized': {'title': 'Pandas Tutorials', 'description': ''}},\n",
       "   'contentDetails': {'itemCount': 11}},\n",
       "  {'kind': 'youtube#playlist',\n",
       "   'etag': 'Zob8gLvnNo6qswxisYTrwVTRMR0',\n",
       "   'id': 'PL-osiE80TeTvipOqomVEeZ1HRrcEvtZB_',\n",
       "   'snippet': {'publishedAt': '2019-06-09T05:10:34Z',\n",
       "    'channelId': 'UCCezIgC97PvUuR4_gbFUs5g',\n",
       "    'title': 'Matplotlib Tutorials',\n",
       "    'description': 'In this Python Programming series, we will be learning how to use the Matplotlib library. Matplotlib allows us to create some great looking plots in order to visualize our data in easy to digest formats. This series covers a wide variety of topics such as: customizing our plots, different plot types, plotting live data in real-time, and more.',\n",
       "    'thumbnails': {'default': {'url': 'https://i.ytimg.com/vi/UO98lJQ3QGI/default.jpg',\n",
       "      'width': 120,\n",
       "      'height': 90},\n",
       "     'medium': {'url': 'https://i.ytimg.com/vi/UO98lJQ3QGI/mqdefault.jpg',\n",
       "      'width': 320,\n",
       "      'height': 180},\n",
       "     'high': {'url': 'https://i.ytimg.com/vi/UO98lJQ3QGI/hqdefault.jpg',\n",
       "      'width': 480,\n",
       "      'height': 360},\n",
       "     'standard': {'url': 'https://i.ytimg.com/vi/UO98lJQ3QGI/sddefault.jpg',\n",
       "      'width': 640,\n",
       "      'height': 480},\n",
       "     'maxres': {'url': 'https://i.ytimg.com/vi/UO98lJQ3QGI/maxresdefault.jpg',\n",
       "      'width': 1280,\n",
       "      'height': 720}},\n",
       "    'channelTitle': 'Corey Schafer',\n",
       "    'localized': {'title': 'Matplotlib Tutorials',\n",
       "     'description': 'In this Python Programming series, we will be learning how to use the Matplotlib library. Matplotlib allows us to create some great looking plots in order to visualize our data in easy to digest formats. This series covers a wide variety of topics such as: customizing our plots, different plot types, plotting live data in real-time, and more.'}},\n",
       "   'contentDetails': {'itemCount': 10}},\n",
       "  {'kind': 'youtube#playlist',\n",
       "   'etag': 'rC_KfGHXudXqRP45ytkwXlGrHF4',\n",
       "   'id': 'PL-osiE80TeTtoQCKZ03TU5fNfx2UY6U4p',\n",
       "   'snippet': {'publishedAt': '2018-08-31T15:12:54Z',\n",
       "    'channelId': 'UCCezIgC97PvUuR4_gbFUs5g',\n",
       "    'title': 'Django Tutorials',\n",
       "    'description': 'Python Django Tutorials. In this series, we will be learning how to build a full-featured Django application for scratch. We will learn how to get started with Django, use templates, create a database, upload pictures, create an authentication system, and much much more.',\n",
       "    'thumbnails': {'default': {'url': 'https://i.ytimg.com/vi/UmljXZIypDc/default.jpg',\n",
       "      'width': 120,\n",
       "      'height': 90},\n",
       "     'medium': {'url': 'https://i.ytimg.com/vi/UmljXZIypDc/mqdefault.jpg',\n",
       "      'width': 320,\n",
       "      'height': 180},\n",
       "     'high': {'url': 'https://i.ytimg.com/vi/UmljXZIypDc/hqdefault.jpg',\n",
       "      'width': 480,\n",
       "      'height': 360},\n",
       "     'standard': {'url': 'https://i.ytimg.com/vi/UmljXZIypDc/sddefault.jpg',\n",
       "      'width': 640,\n",
       "      'height': 480},\n",
       "     'maxres': {'url': 'https://i.ytimg.com/vi/UmljXZIypDc/maxresdefault.jpg',\n",
       "      'width': 1280,\n",
       "      'height': 720}},\n",
       "    'channelTitle': 'Corey Schafer',\n",
       "    'localized': {'title': 'Django Tutorials',\n",
       "     'description': 'Python Django Tutorials. In this series, we will be learning how to build a full-featured Django application for scratch. We will learn how to get started with Django, use templates, create a database, upload pictures, create an authentication system, and much much more.'}},\n",
       "   'contentDetails': {'itemCount': 17}},\n",
       "  {'kind': 'youtube#playlist',\n",
       "   'etag': '_i8f_UrY96dAfQyObatbT0jRgX0',\n",
       "   'id': 'PL-osiE80TeTs4UjLw5MM6OjgkjFeUxCYH',\n",
       "   'snippet': {'publishedAt': '2018-05-04T17:14:53Z',\n",
       "    'channelId': 'UCCezIgC97PvUuR4_gbFUs5g',\n",
       "    'title': 'Flask Tutorials',\n",
       "    'description': 'Python Flask Tutorials. In this series, we will be learning how to build a full-feature Flask application for scratch. We will learn how to get started with Flask, use templates, create a database, upload pictures, create an authentication system, and much much more.',\n",
       "    'thumbnails': {'default': {'url': 'https://i.ytimg.com/vi/MwZwr5Tvyxo/default.jpg',\n",
       "      'width': 120,\n",
       "      'height': 90},\n",
       "     'medium': {'url': 'https://i.ytimg.com/vi/MwZwr5Tvyxo/mqdefault.jpg',\n",
       "      'width': 320,\n",
       "      'height': 180},\n",
       "     'high': {'url': 'https://i.ytimg.com/vi/MwZwr5Tvyxo/hqdefault.jpg',\n",
       "      'width': 480,\n",
       "      'height': 360},\n",
       "     'standard': {'url': 'https://i.ytimg.com/vi/MwZwr5Tvyxo/sddefault.jpg',\n",
       "      'width': 640,\n",
       "      'height': 480},\n",
       "     'maxres': {'url': 'https://i.ytimg.com/vi/MwZwr5Tvyxo/maxresdefault.jpg',\n",
       "      'width': 1280,\n",
       "      'height': 720}},\n",
       "    'channelTitle': 'Corey Schafer',\n",
       "    'localized': {'title': 'Flask Tutorials',\n",
       "     'description': 'Python Flask Tutorials. In this series, we will be learning how to build a full-feature Flask application for scratch. We will learn how to get started with Flask, use templates, create a database, upload pictures, create an authentication system, and much much more.'}},\n",
       "   'contentDetails': {'itemCount': 15}},\n",
       "  {'kind': 'youtube#playlist',\n",
       "   'etag': 'GrKeOKQ4V6BkNT2v1G_Y-WJfpHY',\n",
       "   'id': 'PL-osiE80TeTvviVL0pJGX5mZCo7CAvIuf',\n",
       "   'snippet': {'publishedAt': '2017-09-19T03:37:08Z',\n",
       "    'channelId': 'UCCezIgC97PvUuR4_gbFUs5g',\n",
       "    'title': 'Career Advice',\n",
       "    'description': 'Career Advice for Programmers, Developers, and Software Engineers.',\n",
       "    'thumbnails': {'default': {'url': 'https://i.ytimg.com/vi/TtIJEQ6D9DE/default.jpg',\n",
       "      'width': 120,\n",
       "      'height': 90},\n",
       "     'medium': {'url': 'https://i.ytimg.com/vi/TtIJEQ6D9DE/mqdefault.jpg',\n",
       "      'width': 320,\n",
       "      'height': 180},\n",
       "     'high': {'url': 'https://i.ytimg.com/vi/TtIJEQ6D9DE/hqdefault.jpg',\n",
       "      'width': 480,\n",
       "      'height': 360},\n",
       "     'standard': {'url': 'https://i.ytimg.com/vi/TtIJEQ6D9DE/sddefault.jpg',\n",
       "      'width': 640,\n",
       "      'height': 480},\n",
       "     'maxres': {'url': 'https://i.ytimg.com/vi/TtIJEQ6D9DE/maxresdefault.jpg',\n",
       "      'width': 1280,\n",
       "      'height': 720}},\n",
       "    'channelTitle': 'Corey Schafer',\n",
       "    'localized': {'title': 'Career Advice',\n",
       "     'description': 'Career Advice for Programmers, Developers, and Software Engineers.'}},\n",
       "   'contentDetails': {'itemCount': 6}}]}"
      ]
     },
     "execution_count": 90,
     "metadata": {},
     "output_type": "execute_result"
    }
   ],
   "source": [
    "pl_list"
   ]
  },
  {
   "cell_type": "code",
   "execution_count": 107,
   "metadata": {},
   "outputs": [
    {
     "data": {
      "text/plain": [
       "11"
      ]
     },
     "execution_count": 107,
     "metadata": {},
     "output_type": "execute_result"
    }
   ],
   "source": [
    "pl_list['items'][0]['contentDetails']['itemCount']"
   ]
  },
  {
   "cell_type": "code",
   "execution_count": 114,
   "metadata": {},
   "outputs": [
    {
     "name": "stdout",
     "output_type": "stream",
     "text": [
      "The playlists and no of videos in each playlist are:\n",
      "Pandas Tutorials 11\n",
      "Matplotlib Tutorials 10\n",
      "Django Tutorials 17\n",
      "Flask Tutorials 15\n",
      "Career Advice 6\n"
     ]
    }
   ],
   "source": [
    "#get the names of the playlists\n",
    "print('The playlists and no of videos in each playlist are:')\n",
    "for i,item in enumerate(pl_list['items']):\n",
    "    #print(item)\n",
    "    print(item['snippet']['title'],pl_list['items'][i]['contentDetails']['itemCount'])"
   ]
  },
  {
   "cell_type": "code",
   "execution_count": 118,
   "metadata": {},
   "outputs": [
    {
     "name": "stdout",
     "output_type": "stream",
     "text": [
      "The playlists and no of videos in each playlist are:\n",
      "Pandas Tutorials - 11\n",
      "Matplotlib Tutorials - 10\n",
      "Django Tutorials - 17\n",
      "Flask Tutorials - 15\n",
      "Career Advice - 6\n",
      "Python Programming Beginner Tutorials - 26\n",
      "Python - Setting up a Python Environment - 9\n",
      "Python OOP Tutorials - Working with Classes - 6\n",
      "Channel Updates - 6\n",
      "SQL Tutorials - 5\n",
      "Linux/Mac Tutorials - 18\n",
      "Programming Terms - 8\n",
      "Git Tutorials - 6\n",
      "Python Tutorials - 143\n",
      "JavaScript Tutorials - 8\n",
      "Sublime Text - 7\n",
      "WordPress - 2\n",
      "Mac Tips and Tricks - 5\n",
      "DIY Projects - 1\n",
      "ArcGIS API for JavaScript - 2\n",
      "My Dog - 5\n"
     ]
    }
   ],
   "source": [
    "nextPageToken=None\n",
    "while True:\n",
    "    #getting the 5 playlists from the channel\n",
    "    pl_response=youtube.playlists().list(part='contentDetails,snippet',channelId='UCCezIgC97PvUuR4_gbFUs5g'\n",
    "                                        ,maxResults=50,pageToken=nextPageToken)\n",
    "    pl_list=pl_response.execute()\n",
    "    print('The playlists and no of videos in each playlist are:')\n",
    "    for i,item in enumerate(pl_list['items']):\n",
    "    #print(item)\n",
    "        print(item['snippet']['title'],'-',pl_list['items'][i]['contentDetails']['itemCount'])\n",
    "    nextPageToken=pl_list.get('nextPageToken')\n",
    "    if nextPageToken is None:\n",
    "        break        "
   ]
  },
  {
   "cell_type": "code",
   "execution_count": null,
   "metadata": {},
   "outputs": [],
   "source": []
  }
 ],
 "metadata": {
  "kernelspec": {
   "display_name": "Python 3",
   "language": "python",
   "name": "python3"
  },
  "language_info": {
   "codemirror_mode": {
    "name": "ipython",
    "version": 3
   },
   "file_extension": ".py",
   "mimetype": "text/x-python",
   "name": "python",
   "nbconvert_exporter": "python",
   "pygments_lexer": "ipython3",
   "version": "3.8.3"
  },
  "toc": {
   "base_numbering": 1,
   "nav_menu": {},
   "number_sections": true,
   "sideBar": true,
   "skip_h1_title": false,
   "title_cell": "Table of Contents",
   "title_sidebar": "Contents",
   "toc_cell": false,
   "toc_position": {},
   "toc_section_display": true,
   "toc_window_display": false
  }
 },
 "nbformat": 4,
 "nbformat_minor": 4
}
